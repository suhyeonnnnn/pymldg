{
 "cells": [
  {
   "cell_type": "markdown",
   "id": "f364bfa8",
   "metadata": {},
   "source": [
    "# ch2 연습장"
   ]
  },
  {
   "cell_type": "code",
   "execution_count": 1,
   "id": "95573b95",
   "metadata": {},
   "outputs": [
    {
     "name": "stdout",
     "output_type": "stream",
     "text": [
      "Requirement already satisfied: scikit-learn in c:\\users\\sh921\\anaconda3\\lib\\site-packages (0.24.1)\n",
      "Requirement already satisfied: numpy>=1.13.3 in c:\\users\\sh921\\anaconda3\\lib\\site-packages (from scikit-learn) (1.21.2+mkl)\n",
      "Requirement already satisfied: threadpoolctl>=2.0.0 in c:\\users\\sh921\\anaconda3\\lib\\site-packages (from scikit-learn) (2.1.0)\n",
      "Requirement already satisfied: joblib>=0.11 in c:\\users\\sh921\\anaconda3\\lib\\site-packages (from scikit-learn) (1.0.1)\n",
      "Requirement already satisfied: scipy>=0.19.1 in c:\\users\\sh921\\anaconda3\\lib\\site-packages (from scikit-learn) (1.6.2)\n",
      "Note: you may need to restart the kernel to use updated packages.\n"
     ]
    }
   ],
   "source": [
    "pip install scikit-learn"
   ]
  },
  {
   "cell_type": "code",
   "execution_count": 2,
   "id": "e858c677",
   "metadata": {},
   "outputs": [
    {
     "name": "stdout",
     "output_type": "stream",
     "text": [
      "0.24.1\n"
     ]
    }
   ],
   "source": [
    "import sklearn\n",
    "print(sklearn.__version__)"
   ]
  },
  {
   "cell_type": "markdown",
   "id": "34e0cfc8",
   "metadata": {},
   "source": [
    "## 붓꽃 품종 분류하기 실습(classification)"
   ]
  },
  {
   "cell_type": "code",
   "execution_count": 1,
   "id": "68644eb3",
   "metadata": {},
   "outputs": [],
   "source": [
    "#test#test"
   ]
  },
  {
   "cell_type": "code",
   "execution_count": null,
   "id": "80ed7c41",
   "metadata": {},
   "outputs": [],
   "source": [
    "#####"
   ]
  }
 ],
 "metadata": {
  "kernelspec": {
   "display_name": "Python 3",
   "language": "python",
   "name": "python3"
  },
  "language_info": {
   "codemirror_mode": {
    "name": "ipython",
    "version": 3
   },
   "file_extension": ".py",
   "mimetype": "text/x-python",
   "name": "python",
   "nbconvert_exporter": "python",
   "pygments_lexer": "ipython3",
   "version": "3.8.8"
  }
 },
 "nbformat": 4,
 "nbformat_minor": 5
}
